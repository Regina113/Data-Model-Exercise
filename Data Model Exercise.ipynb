{
 "cells": [
  {
   "cell_type": "code",
   "execution_count": 1,
   "id": "12bca530-5fe2-4d45-bca4-f1f4d7ed608e",
   "metadata": {},
   "outputs": [
    {
     "name": "stdout",
     "output_type": "stream",
     "text": [
      "Collecting psycopg2\n",
      "  Downloading psycopg2-2.9.9-cp312-cp312-win_amd64.whl.metadata (4.5 kB)\n",
      "Downloading psycopg2-2.9.9-cp312-cp312-win_amd64.whl (1.2 MB)\n",
      "   ---------------------------------------- 0.0/1.2 MB ? eta -:--:--\n",
      "   ---------------------------------------- 0.0/1.2 MB ? eta -:--:--\n",
      "   ---------------------------------------- 0.0/1.2 MB ? eta -:--:--\n",
      "    --------------------------------------- 0.0/1.2 MB ? eta -:--:--\n",
      "   - -------------------------------------- 0.0/1.2 MB 435.7 kB/s eta 0:00:03\n",
      "   - -------------------------------------- 0.0/1.2 MB 435.7 kB/s eta 0:00:03\n",
      "   - -------------------------------------- 0.0/1.2 MB 435.7 kB/s eta 0:00:03\n",
      "   - -------------------------------------- 0.0/1.2 MB 196.9 kB/s eta 0:00:06\n",
      "   -- ------------------------------------- 0.1/1.2 MB 280.5 kB/s eta 0:00:04\n",
      "   --- ------------------------------------ 0.1/1.2 MB 327.7 kB/s eta 0:00:04\n",
      "   ----- ---------------------------------- 0.2/1.2 MB 523.5 kB/s eta 0:00:02\n",
      "   ------- -------------------------------- 0.2/1.2 MB 565.6 kB/s eta 0:00:02\n",
      "   ------------ --------------------------- 0.4/1.2 MB 857.5 kB/s eta 0:00:01\n",
      "   ------------- -------------------------- 0.4/1.2 MB 933.2 kB/s eta 0:00:01\n",
      "   ------------- -------------------------- 0.4/1.2 MB 933.2 kB/s eta 0:00:01\n",
      "   ------------- -------------------------- 0.4/1.2 MB 732.8 kB/s eta 0:00:02\n",
      "   ---------------- ----------------------- 0.5/1.2 MB 814.9 kB/s eta 0:00:01\n",
      "   ----------------- ---------------------- 0.5/1.2 MB 862.0 kB/s eta 0:00:01\n",
      "   ------------------ --------------------- 0.5/1.2 MB 777.1 kB/s eta 0:00:01\n",
      "   ---------------------- ----------------- 0.6/1.2 MB 883.0 kB/s eta 0:00:01\n",
      "   ----------------------------- ---------- 0.8/1.2 MB 1.1 MB/s eta 0:00:01\n",
      "   ------------------------------ --------- 0.9/1.2 MB 1.1 MB/s eta 0:00:01\n",
      "   ------------------------------- -------- 0.9/1.2 MB 1.1 MB/s eta 0:00:01\n",
      "   --------------------------------- ------ 1.0/1.2 MB 1.1 MB/s eta 0:00:01\n",
      "   ------------------------------------ --- 1.1/1.2 MB 1.1 MB/s eta 0:00:01\n",
      "   -------------------------------------- - 1.1/1.2 MB 1.1 MB/s eta 0:00:01\n",
      "   ---------------------------------------  1.2/1.2 MB 1.1 MB/s eta 0:00:01\n",
      "   ---------------------------------------  1.2/1.2 MB 1.1 MB/s eta 0:00:01\n",
      "   ---------------------------------------- 1.2/1.2 MB 1.0 MB/s eta 0:00:00\n",
      "Installing collected packages: psycopg2\n",
      "Successfully installed psycopg2-2.9.9\n"
     ]
    }
   ],
   "source": [
    "!pip install psycopg2"
   ]
  },
  {
   "cell_type": "code",
   "execution_count": 2,
   "id": "15745978-9db4-4290-ac37-614fa2e55996",
   "metadata": {},
   "outputs": [],
   "source": [
    "import psycopg2"
   ]
  },
  {
   "cell_type": "code",
   "execution_count": 3,
   "id": "6922f944-7027-4d06-b917-a91095ba400f",
   "metadata": {},
   "outputs": [],
   "source": [
    "try:\n",
    "    conn = psycopg2.connect(\"host=127.0.0.1 dbname=postgres user=postgres password=Flow@with1\")\n",
    "except psycopg2.Error as e:\n",
    "    print(\"Error: Could not make connection to the Postgres database\")\n",
    "    print(e)"
   ]
  },
  {
   "cell_type": "code",
   "execution_count": 4,
   "id": "7f671b07-9bc4-4b04-a9dc-fed2f29324ae",
   "metadata": {},
   "outputs": [],
   "source": [
    "try:\n",
    "    cur = conn.cursor()\n",
    "except psycopg2.Error as e:\n",
    "    print(\"Error: Could not get cursor to the Database\")\n",
    "    print(e)"
   ]
  },
  {
   "cell_type": "code",
   "execution_count": 5,
   "id": "ade615fe-72db-477c-85e2-a952b6c67075",
   "metadata": {},
   "outputs": [],
   "source": [
    "conn.set_session(autocommit=True)"
   ]
  },
  {
   "cell_type": "code",
   "execution_count": 6,
   "id": "ec363727-613d-4d36-815a-3cd1de5e076c",
   "metadata": {},
   "outputs": [],
   "source": [
    "try:\n",
    "    cur.execute(\"create database myfirstdb\")\n",
    "except psycopg2.Error as e:\n",
    "    print(e)"
   ]
  },
  {
   "cell_type": "code",
   "execution_count": 7,
   "id": "c43c21cb-0db9-4349-b255-137a5714c689",
   "metadata": {},
   "outputs": [],
   "source": [
    "try:\n",
    "    conn.close()\n",
    "except psycopg2.Error as e:\n",
    "    print(e)\n",
    "\n",
    "try:\n",
    "    conn = psycopg2.connect(\"host=127.0.0.1 dbname=myfirstdb user=postgres password=Flow@with1\")\n",
    "except psycopg2.Error as e:\n",
    "    print(\"Error: Could not make connection to the Postgres database\")\n",
    "    print(e)\n",
    "\n",
    "try:\n",
    "    cur = conn.cursor()\n",
    "except psycopg2.Error as e:\n",
    "    print(\"Error: Could not get cursor to the Database\")\n",
    "    print(e)\n",
    "\n",
    "conn.set_session(autocommit=True)\n",
    "\n",
    "    "
   ]
  },
  {
   "cell_type": "code",
   "execution_count": 8,
   "id": "0ce092fd-0268-4f9f-a34a-90c901423967",
   "metadata": {},
   "outputs": [],
   "source": [
    "try:\n",
    "    cur.execute(\"CREATE TABLE IF NOT EXISTS students (student_id int, name varchar, \\\n",
    "    age int, gender varchar, subject varchar, marks int);\")\n",
    "except psycopg2.Error as e:\n",
    "    print(\"Error: Issue creating table\")\n",
    "    print(e)"
   ]
  },
  {
   "cell_type": "code",
   "execution_count": 9,
   "id": "1649dbfb-4739-448f-8556-a858deb73476",
   "metadata": {},
   "outputs": [],
   "source": [
    "try:\n",
    "    cur.execute(\"INSERT INTO students (student_id, name, age, gender, subject, marks) \\\n",
    "    VALUES (%s, %s, %s, %s, %s, %s)\", \\\n",
    "    (1, \"Raj\", 23, \"Male\", \"Python\", 85))\n",
    "except psycopg2.Error as e:\n",
    "    print(\"Error: Inserting Rows\")\n",
    "    print(e)\n",
    "\n",
    "try:\n",
    "    cur.execute(\"INSERT INTO students (student_id, name, age, gender, subject, marks) \\\n",
    "    VALUES (%s, %s, %s, %s, %s, %s)\", \n",
    "    (2, \"Priya\", 22, \"Female\", \"Python\", 86))\n",
    "except psycopg2.Error as e:\n",
    "    print(\"Error: Inserting Rows\")\n",
    "    print(e)\n",
    "                "
   ]
  },
  {
   "cell_type": "code",
   "execution_count": 10,
   "id": "3db2e18d-e753-44a8-9064-f806db545131",
   "metadata": {},
   "outputs": [
    {
     "name": "stdout",
     "output_type": "stream",
     "text": [
      "(1, 'Raj', 23, 'Male', 'Python', 85)\n",
      "(2, 'Priya', 22, 'Female', 'Python', 86)\n"
     ]
    }
   ],
   "source": [
    "try:\n",
    "    cur.execute(\"SELECT * FROM students;\")\n",
    "except psycopg2.Error as e:\n",
    "    print(\"Error: select *\")\n",
    "    print(e)\n",
    "\n",
    "row = cur.fetchone()\n",
    "while row:\n",
    "    print(row)\n",
    "    row = cur.fetchone()"
   ]
  },
  {
   "cell_type": "code",
   "execution_count": 11,
   "id": "4b336dc1-27a2-4e0f-a3df-9c539013363c",
   "metadata": {},
   "outputs": [],
   "source": [
    "cur.close()\n",
    "conn.close()"
   ]
  },
  {
   "cell_type": "code",
   "execution_count": null,
   "id": "7580f197-441e-4869-ab33-7238d815ca85",
   "metadata": {},
   "outputs": [],
   "source": []
  }
 ],
 "metadata": {
  "kernelspec": {
   "display_name": "Python 3 (ipykernel)",
   "language": "python",
   "name": "python3"
  },
  "language_info": {
   "codemirror_mode": {
    "name": "ipython",
    "version": 3
   },
   "file_extension": ".py",
   "mimetype": "text/x-python",
   "name": "python",
   "nbconvert_exporter": "python",
   "pygments_lexer": "ipython3",
   "version": "3.12.3"
  }
 },
 "nbformat": 4,
 "nbformat_minor": 5
}
